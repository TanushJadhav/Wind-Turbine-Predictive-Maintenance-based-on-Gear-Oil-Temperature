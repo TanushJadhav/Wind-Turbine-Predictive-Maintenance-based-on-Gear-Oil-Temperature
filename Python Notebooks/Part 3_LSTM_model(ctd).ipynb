{
 "cells": [
  {
   "cell_type": "code",
   "execution_count": 15,
   "metadata": {},
   "outputs": [],
   "source": [
    "from keras.models import model_from_json\n",
    "import numpy as np\n",
    "import pandas as pd"
   ]
  },
  {
   "cell_type": "code",
   "execution_count": 16,
   "metadata": {},
   "outputs": [],
   "source": [
    "train = pd.read_csv('time_series_train_data.csv')\n",
    "test = pd.read_csv('time_series_test_data.csv')"
   ]
  },
  {
   "cell_type": "code",
   "execution_count": 17,
   "metadata": {},
   "outputs": [
    {
     "data": {
      "text/html": [
       "<div>\n",
       "<style scoped>\n",
       "    .dataframe tbody tr th:only-of-type {\n",
       "        vertical-align: middle;\n",
       "    }\n",
       "\n",
       "    .dataframe tbody tr th {\n",
       "        vertical-align: top;\n",
       "    }\n",
       "\n",
       "    .dataframe thead th {\n",
       "        text-align: right;\n",
       "    }\n",
       "</style>\n",
       "<table border=\"1\" class=\"dataframe\">\n",
       "  <thead>\n",
       "    <tr style=\"text-align: right;\">\n",
       "      <th></th>\n",
       "      <th>Date and time</th>\n",
       "      <th>y</th>\n",
       "      <th>x1</th>\n",
       "      <th>x2</th>\n",
       "      <th>x3</th>\n",
       "    </tr>\n",
       "  </thead>\n",
       "  <tbody>\n",
       "    <tr>\n",
       "      <th>0</th>\n",
       "      <td>01-01-2020 00:00</td>\n",
       "      <td>56.972500</td>\n",
       "      <td>NaN</td>\n",
       "      <td>NaN</td>\n",
       "      <td>NaN</td>\n",
       "    </tr>\n",
       "    <tr>\n",
       "      <th>1</th>\n",
       "      <td>01-01-2020 00:10</td>\n",
       "      <td>56.695001</td>\n",
       "      <td>56.972500</td>\n",
       "      <td>NaN</td>\n",
       "      <td>NaN</td>\n",
       "    </tr>\n",
       "    <tr>\n",
       "      <th>2</th>\n",
       "      <td>01-01-2020 00:20</td>\n",
       "      <td>56.640000</td>\n",
       "      <td>56.695001</td>\n",
       "      <td>56.972500</td>\n",
       "      <td>NaN</td>\n",
       "    </tr>\n",
       "    <tr>\n",
       "      <th>3</th>\n",
       "      <td>01-01-2020 00:30</td>\n",
       "      <td>56.432500</td>\n",
       "      <td>56.640000</td>\n",
       "      <td>56.695001</td>\n",
       "      <td>56.972500</td>\n",
       "    </tr>\n",
       "    <tr>\n",
       "      <th>4</th>\n",
       "      <td>01-01-2020 00:40</td>\n",
       "      <td>56.169998</td>\n",
       "      <td>56.432500</td>\n",
       "      <td>56.640000</td>\n",
       "      <td>56.695001</td>\n",
       "    </tr>\n",
       "    <tr>\n",
       "      <th>...</th>\n",
       "      <td>...</td>\n",
       "      <td>...</td>\n",
       "      <td>...</td>\n",
       "      <td>...</td>\n",
       "      <td>...</td>\n",
       "    </tr>\n",
       "    <tr>\n",
       "      <th>311913</th>\n",
       "      <td>31-12-2020 23:10</td>\n",
       "      <td>50.830000</td>\n",
       "      <td>50.880000</td>\n",
       "      <td>51.015000</td>\n",
       "      <td>51.052500</td>\n",
       "    </tr>\n",
       "    <tr>\n",
       "      <th>311914</th>\n",
       "      <td>31-12-2020 23:20</td>\n",
       "      <td>50.792500</td>\n",
       "      <td>50.830000</td>\n",
       "      <td>50.880000</td>\n",
       "      <td>51.015000</td>\n",
       "    </tr>\n",
       "    <tr>\n",
       "      <th>311915</th>\n",
       "      <td>31-12-2020 23:30</td>\n",
       "      <td>50.742500</td>\n",
       "      <td>50.792500</td>\n",
       "      <td>50.830000</td>\n",
       "      <td>50.880000</td>\n",
       "    </tr>\n",
       "    <tr>\n",
       "      <th>311916</th>\n",
       "      <td>31-12-2020 23:40</td>\n",
       "      <td>50.799999</td>\n",
       "      <td>50.742500</td>\n",
       "      <td>50.792500</td>\n",
       "      <td>50.830000</td>\n",
       "    </tr>\n",
       "    <tr>\n",
       "      <th>311917</th>\n",
       "      <td>31-12-2020 23:50</td>\n",
       "      <td>50.772500</td>\n",
       "      <td>50.799999</td>\n",
       "      <td>50.742500</td>\n",
       "      <td>50.792500</td>\n",
       "    </tr>\n",
       "  </tbody>\n",
       "</table>\n",
       "<p>311918 rows × 5 columns</p>\n",
       "</div>"
      ],
      "text/plain": [
       "           Date and time          y         x1         x2         x3\n",
       "0       01-01-2020 00:00  56.972500        NaN        NaN        NaN\n",
       "1       01-01-2020 00:10  56.695001  56.972500        NaN        NaN\n",
       "2       01-01-2020 00:20  56.640000  56.695001  56.972500        NaN\n",
       "3       01-01-2020 00:30  56.432500  56.640000  56.695001  56.972500\n",
       "4       01-01-2020 00:40  56.169998  56.432500  56.640000  56.695001\n",
       "...                  ...        ...        ...        ...        ...\n",
       "311913  31-12-2020 23:10  50.830000  50.880000  51.015000  51.052500\n",
       "311914  31-12-2020 23:20  50.792500  50.830000  50.880000  51.015000\n",
       "311915  31-12-2020 23:30  50.742500  50.792500  50.830000  50.880000\n",
       "311916  31-12-2020 23:40  50.799999  50.742500  50.792500  50.830000\n",
       "311917  31-12-2020 23:50  50.772500  50.799999  50.742500  50.792500\n",
       "\n",
       "[311918 rows x 5 columns]"
      ]
     },
     "execution_count": 17,
     "metadata": {},
     "output_type": "execute_result"
    }
   ],
   "source": [
    "train"
   ]
  },
  {
   "cell_type": "code",
   "execution_count": 18,
   "metadata": {},
   "outputs": [
    {
     "data": {
      "text/html": [
       "<div>\n",
       "<style scoped>\n",
       "    .dataframe tbody tr th:only-of-type {\n",
       "        vertical-align: middle;\n",
       "    }\n",
       "\n",
       "    .dataframe tbody tr th {\n",
       "        vertical-align: top;\n",
       "    }\n",
       "\n",
       "    .dataframe thead th {\n",
       "        text-align: right;\n",
       "    }\n",
       "</style>\n",
       "<table border=\"1\" class=\"dataframe\">\n",
       "  <thead>\n",
       "    <tr style=\"text-align: right;\">\n",
       "      <th></th>\n",
       "      <th>Date and time</th>\n",
       "      <th>y</th>\n",
       "      <th>x1</th>\n",
       "      <th>x2</th>\n",
       "      <th>x3</th>\n",
       "    </tr>\n",
       "  </thead>\n",
       "  <tbody>\n",
       "    <tr>\n",
       "      <th>0</th>\n",
       "      <td>01-01-2021 00:00</td>\n",
       "      <td>17.442500</td>\n",
       "      <td>NaN</td>\n",
       "      <td>NaN</td>\n",
       "      <td>NaN</td>\n",
       "    </tr>\n",
       "    <tr>\n",
       "      <th>1</th>\n",
       "      <td>01-01-2021 00:10</td>\n",
       "      <td>18.220000</td>\n",
       "      <td>17.442500</td>\n",
       "      <td>NaN</td>\n",
       "      <td>NaN</td>\n",
       "    </tr>\n",
       "    <tr>\n",
       "      <th>2</th>\n",
       "      <td>01-01-2021 00:20</td>\n",
       "      <td>18.230000</td>\n",
       "      <td>18.220000</td>\n",
       "      <td>17.442500</td>\n",
       "      <td>NaN</td>\n",
       "    </tr>\n",
       "    <tr>\n",
       "      <th>3</th>\n",
       "      <td>01-01-2021 00:30</td>\n",
       "      <td>17.485000</td>\n",
       "      <td>18.230000</td>\n",
       "      <td>18.220000</td>\n",
       "      <td>17.442500</td>\n",
       "    </tr>\n",
       "    <tr>\n",
       "      <th>4</th>\n",
       "      <td>01-01-2021 00:40</td>\n",
       "      <td>17.785000</td>\n",
       "      <td>17.485000</td>\n",
       "      <td>18.230000</td>\n",
       "      <td>18.220000</td>\n",
       "    </tr>\n",
       "    <tr>\n",
       "      <th>...</th>\n",
       "      <td>...</td>\n",
       "      <td>...</td>\n",
       "      <td>...</td>\n",
       "      <td>...</td>\n",
       "      <td>...</td>\n",
       "    </tr>\n",
       "    <tr>\n",
       "      <th>142887</th>\n",
       "      <td>16-06-2021 07:40</td>\n",
       "      <td>57.497499</td>\n",
       "      <td>56.885000</td>\n",
       "      <td>56.445000</td>\n",
       "      <td>56.434210</td>\n",
       "    </tr>\n",
       "    <tr>\n",
       "      <th>142888</th>\n",
       "      <td>16-06-2021 07:50</td>\n",
       "      <td>57.591667</td>\n",
       "      <td>57.497499</td>\n",
       "      <td>56.885000</td>\n",
       "      <td>56.445000</td>\n",
       "    </tr>\n",
       "    <tr>\n",
       "      <th>142889</th>\n",
       "      <td>16-06-2021 08:00</td>\n",
       "      <td>57.375001</td>\n",
       "      <td>57.591667</td>\n",
       "      <td>57.497499</td>\n",
       "      <td>56.885000</td>\n",
       "    </tr>\n",
       "    <tr>\n",
       "      <th>142890</th>\n",
       "      <td>16-06-2021 08:10</td>\n",
       "      <td>57.239474</td>\n",
       "      <td>57.375001</td>\n",
       "      <td>57.591667</td>\n",
       "      <td>57.497499</td>\n",
       "    </tr>\n",
       "    <tr>\n",
       "      <th>142891</th>\n",
       "      <td>16-06-2021 08:20</td>\n",
       "      <td>56.509999</td>\n",
       "      <td>57.239474</td>\n",
       "      <td>57.375001</td>\n",
       "      <td>57.591667</td>\n",
       "    </tr>\n",
       "  </tbody>\n",
       "</table>\n",
       "<p>142892 rows × 5 columns</p>\n",
       "</div>"
      ],
      "text/plain": [
       "           Date and time          y         x1         x2         x3\n",
       "0       01-01-2021 00:00  17.442500        NaN        NaN        NaN\n",
       "1       01-01-2021 00:10  18.220000  17.442500        NaN        NaN\n",
       "2       01-01-2021 00:20  18.230000  18.220000  17.442500        NaN\n",
       "3       01-01-2021 00:30  17.485000  18.230000  18.220000  17.442500\n",
       "4       01-01-2021 00:40  17.785000  17.485000  18.230000  18.220000\n",
       "...                  ...        ...        ...        ...        ...\n",
       "142887  16-06-2021 07:40  57.497499  56.885000  56.445000  56.434210\n",
       "142888  16-06-2021 07:50  57.591667  57.497499  56.885000  56.445000\n",
       "142889  16-06-2021 08:00  57.375001  57.591667  57.497499  56.885000\n",
       "142890  16-06-2021 08:10  57.239474  57.375001  57.591667  57.497499\n",
       "142891  16-06-2021 08:20  56.509999  57.239474  57.375001  57.591667\n",
       "\n",
       "[142892 rows x 5 columns]"
      ]
     },
     "execution_count": 18,
     "metadata": {},
     "output_type": "execute_result"
    }
   ],
   "source": [
    "test"
   ]
  },
  {
   "cell_type": "code",
   "execution_count": 19,
   "metadata": {},
   "outputs": [],
   "source": [
    "x_train = train.iloc[3:,2:]\n",
    "y_train = train.iloc[3:,1:2]\n",
    "\n",
    "x_test = test.iloc[3:,2:]\n",
    "y_test =test.iloc[3:,1:2]"
   ]
  },
  {
   "cell_type": "code",
   "execution_count": 20,
   "metadata": {},
   "outputs": [],
   "source": [
    "n_samples = x_train.values.shape[0]\n",
    "n_timestamps = 1\n",
    "n_features = x_train.values.shape[1]\n",
    "\n",
    "x_train = x_train.values.reshape(n_samples, n_timestamps, n_features)"
   ]
  },
  {
   "cell_type": "code",
   "execution_count": 21,
   "metadata": {},
   "outputs": [],
   "source": [
    "x_test = x_test.values.reshape(x_test.shape[0], 1, x_test.shape[1])"
   ]
  },
  {
   "cell_type": "code",
   "execution_count": 22,
   "metadata": {},
   "outputs": [],
   "source": [
    "#loading Model\n",
    "\n",
    "file = open('lstm_model.json', 'r')\n",
    "loaded  = file.read()\n",
    "file.close()\n",
    "\n",
    "lstm_model = model_from_json(loaded)\n",
    "lstm_model.load_weights(\"lstm_model.h5\")"
   ]
  },
  {
   "cell_type": "code",
   "execution_count": 23,
   "metadata": {},
   "outputs": [
    {
     "name": "stdout",
     "output_type": "stream",
     "text": [
      "9748/9748 [==============================] - 12s 1ms/step\n"
     ]
    },
    {
     "data": {
      "text/plain": [
       "array([[56.783363],\n",
       "       [56.589478],\n",
       "       [56.384315],\n",
       "       ...,\n",
       "       [50.959877],\n",
       "       [50.90689 ],\n",
       "       [50.967033]], dtype=float32)"
      ]
     },
     "execution_count": 23,
     "metadata": {},
     "output_type": "execute_result"
    }
   ],
   "source": [
    "train_pred=lstm_model.predict(x_train)\n",
    "train_pred"
   ]
  },
  {
   "cell_type": "code",
   "execution_count": 24,
   "metadata": {},
   "outputs": [
    {
     "name": "stdout",
     "output_type": "stream",
     "text": [
      "   1/4466 [..............................] - ETA: 2:13"
     ]
    },
    {
     "name": "stdout",
     "output_type": "stream",
     "text": [
      "4466/4466 [==============================] - 5s 1ms/step\n"
     ]
    },
    {
     "data": {
      "text/plain": [
       "array([[18.085152],\n",
       "       [17.355629],\n",
       "       [17.896046],\n",
       "       ...,\n",
       "       [57.448433],\n",
       "       [57.407597],\n",
       "       [57.324112]], dtype=float32)"
      ]
     },
     "execution_count": 24,
     "metadata": {},
     "output_type": "execute_result"
    }
   ],
   "source": [
    "test_pred=lstm_model.predict(x_test)\n",
    "test_pred"
   ]
  },
  {
   "cell_type": "code",
   "execution_count": 25,
   "metadata": {},
   "outputs": [
    {
     "name": "stdout",
     "output_type": "stream",
     "text": [
      "1/1 [==============================] - 0s 41ms/step\n"
     ]
    },
    {
     "data": {
      "text/plain": [
       "array([[17.969482]], dtype=float32)"
      ]
     },
     "execution_count": 25,
     "metadata": {},
     "output_type": "execute_result"
    }
   ],
   "source": [
    "lstm_model.predict([[[17.850,17.485,18.23]]])"
   ]
  },
  {
   "cell_type": "code",
   "execution_count": null,
   "metadata": {},
   "outputs": [],
   "source": []
  }
 ],
 "metadata": {
  "kernelspec": {
   "display_name": "Python 3",
   "language": "python",
   "name": "python3"
  },
  "language_info": {
   "codemirror_mode": {
    "name": "ipython",
    "version": 3
   },
   "file_extension": ".py",
   "mimetype": "text/x-python",
   "name": "python",
   "nbconvert_exporter": "python",
   "pygments_lexer": "ipython3",
   "version": "3.11.4"
  }
 },
 "nbformat": 4,
 "nbformat_minor": 2
}
