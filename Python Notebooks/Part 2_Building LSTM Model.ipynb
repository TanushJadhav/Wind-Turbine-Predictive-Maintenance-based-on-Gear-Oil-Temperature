{
 "cells": [
  {
   "cell_type": "markdown",
   "metadata": {},
   "source": [
    "Importing Libraries"
   ]
  },
  {
   "cell_type": "code",
   "execution_count": 1,
   "metadata": {},
   "outputs": [],
   "source": [
    "import numpy as np\n",
    "import pandas as pd\n",
    "import matplotlib.pyplot as plt\n",
    "import seaborn as sns\n",
    "from keras.models import model_from_json, Sequential\n",
    "from keras.layers import LSTM, Dense, Dropout"
   ]
  },
  {
   "cell_type": "markdown",
   "metadata": {},
   "source": [
    "Calling the reconstructed data"
   ]
  },
  {
   "cell_type": "code",
   "execution_count": 2,
   "metadata": {},
   "outputs": [],
   "source": [
    "training = pd.read_csv('train.csv')\n",
    "testing = pd.read_csv('test.csv')"
   ]
  },
  {
   "cell_type": "code",
   "execution_count": 3,
   "metadata": {},
   "outputs": [
    {
     "data": {
      "text/html": [
       "<div>\n",
       "<style scoped>\n",
       "    .dataframe tbody tr th:only-of-type {\n",
       "        vertical-align: middle;\n",
       "    }\n",
       "\n",
       "    .dataframe tbody tr th {\n",
       "        vertical-align: top;\n",
       "    }\n",
       "\n",
       "    .dataframe thead th {\n",
       "        text-align: right;\n",
       "    }\n",
       "</style>\n",
       "<table border=\"1\" class=\"dataframe\">\n",
       "  <thead>\n",
       "    <tr style=\"text-align: right;\">\n",
       "      <th></th>\n",
       "      <th>Date and time</th>\n",
       "      <th>Gear oil temperature (°C)</th>\n",
       "      <th>Gear oil temperature, Max (°C)</th>\n",
       "      <th>Gear oil temperature, Min (°C)</th>\n",
       "      <th>Gear oil temperature, Standard deviation (°C)</th>\n",
       "    </tr>\n",
       "  </thead>\n",
       "  <tbody>\n",
       "    <tr>\n",
       "      <th>0</th>\n",
       "      <td>01-01-2020 00:00</td>\n",
       "      <td>56.972500</td>\n",
       "      <td>57.099998</td>\n",
       "      <td>56.799999</td>\n",
       "      <td>9.549207e-02</td>\n",
       "    </tr>\n",
       "    <tr>\n",
       "      <th>1</th>\n",
       "      <td>01-01-2020 00:10</td>\n",
       "      <td>56.695001</td>\n",
       "      <td>56.750000</td>\n",
       "      <td>56.599998</td>\n",
       "      <td>3.840561e-02</td>\n",
       "    </tr>\n",
       "    <tr>\n",
       "      <th>2</th>\n",
       "      <td>01-01-2020 00:20</td>\n",
       "      <td>56.640000</td>\n",
       "      <td>56.700001</td>\n",
       "      <td>56.400002</td>\n",
       "      <td>6.819121e-02</td>\n",
       "    </tr>\n",
       "    <tr>\n",
       "      <th>3</th>\n",
       "      <td>01-01-2020 00:30</td>\n",
       "      <td>56.432500</td>\n",
       "      <td>56.650002</td>\n",
       "      <td>56.299999</td>\n",
       "      <td>1.028044e-01</td>\n",
       "    </tr>\n",
       "    <tr>\n",
       "      <th>4</th>\n",
       "      <td>01-01-2020 00:40</td>\n",
       "      <td>56.169998</td>\n",
       "      <td>56.349998</td>\n",
       "      <td>56.049999</td>\n",
       "      <td>9.797955e-02</td>\n",
       "    </tr>\n",
       "    <tr>\n",
       "      <th>...</th>\n",
       "      <td>...</td>\n",
       "      <td>...</td>\n",
       "      <td>...</td>\n",
       "      <td>...</td>\n",
       "      <td>...</td>\n",
       "    </tr>\n",
       "    <tr>\n",
       "      <th>311913</th>\n",
       "      <td>31-12-2020 23:10</td>\n",
       "      <td>50.830000</td>\n",
       "      <td>51.000000</td>\n",
       "      <td>50.799999</td>\n",
       "      <td>6.403169e-02</td>\n",
       "    </tr>\n",
       "    <tr>\n",
       "      <th>311914</th>\n",
       "      <td>31-12-2020 23:20</td>\n",
       "      <td>50.792500</td>\n",
       "      <td>50.900002</td>\n",
       "      <td>50.700001</td>\n",
       "      <td>6.759271e-02</td>\n",
       "    </tr>\n",
       "    <tr>\n",
       "      <th>311915</th>\n",
       "      <td>31-12-2020 23:30</td>\n",
       "      <td>50.742500</td>\n",
       "      <td>50.799999</td>\n",
       "      <td>50.700001</td>\n",
       "      <td>4.815267e-02</td>\n",
       "    </tr>\n",
       "    <tr>\n",
       "      <th>311916</th>\n",
       "      <td>31-12-2020 23:40</td>\n",
       "      <td>50.799999</td>\n",
       "      <td>50.799999</td>\n",
       "      <td>50.799999</td>\n",
       "      <td>2.130000e-14</td>\n",
       "    </tr>\n",
       "    <tr>\n",
       "      <th>311917</th>\n",
       "      <td>31-12-2020 23:50</td>\n",
       "      <td>50.772500</td>\n",
       "      <td>50.799999</td>\n",
       "      <td>50.700001</td>\n",
       "      <td>3.699606e-02</td>\n",
       "    </tr>\n",
       "  </tbody>\n",
       "</table>\n",
       "<p>311918 rows × 5 columns</p>\n",
       "</div>"
      ],
      "text/plain": [
       "           Date and time  Gear oil temperature (°C)  \\\n",
       "0       01-01-2020 00:00                  56.972500   \n",
       "1       01-01-2020 00:10                  56.695001   \n",
       "2       01-01-2020 00:20                  56.640000   \n",
       "3       01-01-2020 00:30                  56.432500   \n",
       "4       01-01-2020 00:40                  56.169998   \n",
       "...                  ...                        ...   \n",
       "311913  31-12-2020 23:10                  50.830000   \n",
       "311914  31-12-2020 23:20                  50.792500   \n",
       "311915  31-12-2020 23:30                  50.742500   \n",
       "311916  31-12-2020 23:40                  50.799999   \n",
       "311917  31-12-2020 23:50                  50.772500   \n",
       "\n",
       "        Gear oil temperature, Max (°C)  Gear oil temperature, Min (°C)  \\\n",
       "0                            57.099998                       56.799999   \n",
       "1                            56.750000                       56.599998   \n",
       "2                            56.700001                       56.400002   \n",
       "3                            56.650002                       56.299999   \n",
       "4                            56.349998                       56.049999   \n",
       "...                                ...                             ...   \n",
       "311913                       51.000000                       50.799999   \n",
       "311914                       50.900002                       50.700001   \n",
       "311915                       50.799999                       50.700001   \n",
       "311916                       50.799999                       50.799999   \n",
       "311917                       50.799999                       50.700001   \n",
       "\n",
       "        Gear oil temperature, Standard deviation (°C)  \n",
       "0                                        9.549207e-02  \n",
       "1                                        3.840561e-02  \n",
       "2                                        6.819121e-02  \n",
       "3                                        1.028044e-01  \n",
       "4                                        9.797955e-02  \n",
       "...                                               ...  \n",
       "311913                                   6.403169e-02  \n",
       "311914                                   6.759271e-02  \n",
       "311915                                   4.815267e-02  \n",
       "311916                                   2.130000e-14  \n",
       "311917                                   3.699606e-02  \n",
       "\n",
       "[311918 rows x 5 columns]"
      ]
     },
     "execution_count": 3,
     "metadata": {},
     "output_type": "execute_result"
    }
   ],
   "source": [
    "training"
   ]
  },
  {
   "cell_type": "code",
   "execution_count": 4,
   "metadata": {},
   "outputs": [
    {
     "data": {
      "text/plain": [
       "(311918, 5)"
      ]
     },
     "execution_count": 4,
     "metadata": {},
     "output_type": "execute_result"
    }
   ],
   "source": [
    "training.shape"
   ]
  },
  {
   "cell_type": "markdown",
   "metadata": {},
   "source": [
    "Calling the Autoencoder Model to find anomoly and threshold "
   ]
  },
  {
   "cell_type": "code",
   "execution_count": 4,
   "metadata": {},
   "outputs": [],
   "source": [
    "train_data = training.drop('Date and time', axis=1)\n",
    "test_data = testing.drop('Date and time', axis=1)"
   ]
  },
  {
   "cell_type": "code",
   "execution_count": 5,
   "metadata": {},
   "outputs": [],
   "source": [
    "file = open('Anomoly_det_model.json', 'r')\n",
    "loaded  = file.read()\n",
    "file.close()\n",
    "\n",
    "autoencoder = model_from_json(loaded)\n",
    "autoencoder.load_weights(\"Anomoly_det_model.h5\")"
   ]
  },
  {
   "cell_type": "code",
   "execution_count": 6,
   "metadata": {},
   "outputs": [
    {
     "name": "stdout",
     "output_type": "stream",
     "text": [
      "9748/9748 [==============================] - 11s 1ms/step\n"
     ]
    }
   ],
   "source": [
    "train_pred=autoencoder.predict(train_data)\n",
    "train_pred=train_pred.reshape(train_pred.shape[0],train_pred.shape[1])\n",
    "\n",
    "train=train_data.values.reshape(train_data.shape[0],train_data.shape[1])"
   ]
  },
  {
   "cell_type": "code",
   "execution_count": 7,
   "metadata": {},
   "outputs": [],
   "source": [
    "loss=np.mean(np.abs(train_pred-train),axis=1)"
   ]
  },
  {
   "cell_type": "code",
   "execution_count": 8,
   "metadata": {},
   "outputs": [
    {
     "data": {
      "image/png": "[encoded data removed]",
      "text/plain": [
       "<Figure size 640x480 with 1 Axes>"
      ]
     },
     "metadata": {},
     "output_type": "display_data"
    }
   ],
   "source": [
    "plt.hist(loss,color='red')\n",
    "plt.xlabel('MAE')\n",
    "plt.ylabel('Frequency')\n",
    "plt.show()"
   ]
  },
  {
   "cell_type": "code",
   "execution_count": 9,
   "metadata": {},
   "outputs": [
    {
     "name": "stderr",
     "output_type": "stream",
     "text": [
      "C:\\Users\\tanus\\AppData\\Local\\Temp\\ipykernel_1136\\2745629808.py:3: UserWarning: \n",
      "\n",
      "`distplot` is a deprecated function and will be removed in seaborn v0.14.0.\n",
      "\n",
      "Please adapt your code to use either `displot` (a figure-level function with\n",
      "similar flexibility) or `histplot` (an axes-level function for histograms).\n",
      "\n",
      "For a guide to updating your code to use the new functions, please see\n",
      "https://gist.github.com/mwaskom/de44147ed2974457ad6372750bbe5751\n",
      "\n",
      "  sns.distplot(loss,kde=True,color='blue')\n"
     ]
    },
    {
     "data": {
      "text/plain": [
       "<Axes: ylabel='Density'>"
      ]
     },
     "execution_count": 9,
     "metadata": {},
     "output_type": "execute_result"
    },
    {
     "data": {
      "image/png": "[encoded data removed]",
      "text/plain": [
       "<Figure size 500x500 with 1 Axes>"
      ]
     },
     "metadata": {},
     "output_type": "display_data"
    }
   ],
   "source": [
    "import seaborn as sns\n",
    "plt.figure(figsize=(5,5))\n",
    "sns.distplot(loss,kde=True,color='blue')"
   ]
  },
  {
   "cell_type": "code",
   "execution_count": 10,
   "metadata": {},
   "outputs": [
    {
     "name": "stdout",
     "output_type": "stream",
     "text": [
      "4466/4466 [==============================] - 5s 1ms/step\n"
     ]
    }
   ],
   "source": [
    "test_pred=autoencoder.predict(test_data)\n",
    "test_pred=test_pred.reshape(test_pred.shape[0],test_pred.shape[1])"
   ]
  },
  {
   "cell_type": "code",
   "execution_count": 11,
   "metadata": {},
   "outputs": [],
   "source": [
    "test=test_data.values.reshape(test_data.shape[0],test_data.shape[1])"
   ]
  },
  {
   "cell_type": "code",
   "execution_count": 12,
   "metadata": {},
   "outputs": [
    {
     "name": "stderr",
     "output_type": "stream",
     "text": [
      "C:\\Users\\tanus\\AppData\\Local\\Temp\\ipykernel_1136\\4209743378.py:3: UserWarning: \n",
      "\n",
      "`distplot` is a deprecated function and will be removed in seaborn v0.14.0.\n",
      "\n",
      "Please adapt your code to use either `displot` (a figure-level function with\n",
      "similar flexibility) or `histplot` (an axes-level function for histograms).\n",
      "\n",
      "For a guide to updating your code to use the new functions, please see\n",
      "https://gist.github.com/mwaskom/de44147ed2974457ad6372750bbe5751\n",
      "\n",
      "  sns.distplot(loss,kde=True,color='red',label='Training Loss')\n",
      "C:\\Users\\tanus\\AppData\\Local\\Temp\\ipykernel_1136\\4209743378.py:4: UserWarning: \n",
      "\n",
      "`distplot` is a deprecated function and will be removed in seaborn v0.14.0.\n",
      "\n",
      "Please adapt your code to use either `displot` (a figure-level function with\n",
      "similar flexibility) or `histplot` (an axes-level function for histograms).\n",
      "\n",
      "For a guide to updating your code to use the new functions, please see\n",
      "https://gist.github.com/mwaskom/de44147ed2974457ad6372750bbe5751\n",
      "\n",
      "  sns.distplot(test_loss,kde=True,color='blue',label='Testing Loss')\n"
     ]
    },
    {
     "data": {
      "text/plain": [
       "<Axes: ylabel='Density'>"
      ]
     },
     "execution_count": 12,
     "metadata": {},
     "output_type": "execute_result"
    },
    {
     "data": {
      "image/png": "[encoded data removed]",
      "text/plain": [
       "<Figure size 500x500 with 1 Axes>"
      ]
     },
     "metadata": {},
     "output_type": "display_data"
    }
   ],
   "source": [
    "test_loss=np.mean(np.abs(test_pred-test),axis=1)\n",
    "plt.figure(figsize=(5,5))\n",
    "sns.distplot(loss,kde=True,color='red',label='Training Loss')\n",
    "sns.distplot(test_loss,kde=True,color='blue',label='Testing Loss')"
   ]
  },
  {
   "cell_type": "code",
   "execution_count": 13,
   "metadata": {},
   "outputs": [
    {
     "data": {
      "text/html": [
       "<div>\n",
       "<style scoped>\n",
       "    .dataframe tbody tr th:only-of-type {\n",
       "        vertical-align: middle;\n",
       "    }\n",
       "\n",
       "    .dataframe tbody tr th {\n",
       "        vertical-align: top;\n",
       "    }\n",
       "\n",
       "    .dataframe thead th {\n",
       "        text-align: right;\n",
       "    }\n",
       "</style>\n",
       "<table border=\"1\" class=\"dataframe\">\n",
       "  <thead>\n",
       "    <tr style=\"text-align: right;\">\n",
       "      <th></th>\n",
       "      <th>Test MAE</th>\n",
       "      <th>Threshold</th>\n",
       "      <th>Status</th>\n",
       "    </tr>\n",
       "    <tr>\n",
       "      <th>Date and time</th>\n",
       "      <th></th>\n",
       "      <th></th>\n",
       "      <th></th>\n",
       "    </tr>\n",
       "  </thead>\n",
       "  <tbody>\n",
       "    <tr>\n",
       "      <th>01-01-2021 00:00</th>\n",
       "      <td>0.019906</td>\n",
       "      <td>0.448078</td>\n",
       "      <td>False</td>\n",
       "    </tr>\n",
       "    <tr>\n",
       "      <th>01-01-2021 00:10</th>\n",
       "      <td>0.233051</td>\n",
       "      <td>0.448078</td>\n",
       "      <td>False</td>\n",
       "    </tr>\n",
       "    <tr>\n",
       "      <th>01-01-2021 00:20</th>\n",
       "      <td>0.148113</td>\n",
       "      <td>0.448078</td>\n",
       "      <td>False</td>\n",
       "    </tr>\n",
       "    <tr>\n",
       "      <th>01-01-2021 00:30</th>\n",
       "      <td>0.059294</td>\n",
       "      <td>0.448078</td>\n",
       "      <td>False</td>\n",
       "    </tr>\n",
       "    <tr>\n",
       "      <th>01-01-2021 00:40</th>\n",
       "      <td>0.184701</td>\n",
       "      <td>0.448078</td>\n",
       "      <td>False</td>\n",
       "    </tr>\n",
       "    <tr>\n",
       "      <th>...</th>\n",
       "      <td>...</td>\n",
       "      <td>...</td>\n",
       "      <td>...</td>\n",
       "    </tr>\n",
       "    <tr>\n",
       "      <th>16-06-2021 07:40</th>\n",
       "      <td>0.061802</td>\n",
       "      <td>0.448078</td>\n",
       "      <td>False</td>\n",
       "    </tr>\n",
       "    <tr>\n",
       "      <th>16-06-2021 07:50</th>\n",
       "      <td>0.045330</td>\n",
       "      <td>0.448078</td>\n",
       "      <td>False</td>\n",
       "    </tr>\n",
       "    <tr>\n",
       "      <th>16-06-2021 08:00</th>\n",
       "      <td>0.026519</td>\n",
       "      <td>0.448078</td>\n",
       "      <td>False</td>\n",
       "    </tr>\n",
       "    <tr>\n",
       "      <th>16-06-2021 08:10</th>\n",
       "      <td>0.060017</td>\n",
       "      <td>0.448078</td>\n",
       "      <td>False</td>\n",
       "    </tr>\n",
       "    <tr>\n",
       "      <th>16-06-2021 08:20</th>\n",
       "      <td>0.074289</td>\n",
       "      <td>0.448078</td>\n",
       "      <td>False</td>\n",
       "    </tr>\n",
       "  </tbody>\n",
       "</table>\n",
       "<p>142892 rows × 3 columns</p>\n",
       "</div>"
      ],
      "text/plain": [
       "                  Test MAE  Threshold  Status\n",
       "Date and time                                \n",
       "01-01-2021 00:00  0.019906   0.448078   False\n",
       "01-01-2021 00:10  0.233051   0.448078   False\n",
       "01-01-2021 00:20  0.148113   0.448078   False\n",
       "01-01-2021 00:30  0.059294   0.448078   False\n",
       "01-01-2021 00:40  0.184701   0.448078   False\n",
       "...                    ...        ...     ...\n",
       "16-06-2021 07:40  0.061802   0.448078   False\n",
       "16-06-2021 07:50  0.045330   0.448078   False\n",
       "16-06-2021 08:00  0.026519   0.448078   False\n",
       "16-06-2021 08:10  0.060017   0.448078   False\n",
       "16-06-2021 08:20  0.074289   0.448078   False\n",
       "\n",
       "[142892 rows x 3 columns]"
      ]
     },
     "execution_count": 13,
     "metadata": {},
     "output_type": "execute_result"
    }
   ],
   "source": [
    "anomaly=pd.DataFrame()\n",
    "anomaly.index = testing['Date and time']\n",
    "anomaly['Test MAE']=test_loss\n",
    "#threshold\n",
    "anomaly['Threshold']=np.mean(test_loss)+4*np.std(test_loss)\n",
    "anomaly['Status']=anomaly['Test MAE']>anomaly['Threshold']\n",
    "\n",
    "anomaly"
   ]
  },
  {
   "cell_type": "code",
   "execution_count": 14,
   "metadata": {},
   "outputs": [
    {
     "data": {
      "image/png": "[encoded data removed]",
      "text/plain": [
       "<Figure size 1400x600 with 1 Axes>"
      ]
     },
     "metadata": {},
     "output_type": "display_data"
    }
   ],
   "source": [
    "anomaly[['Test MAE', 'Threshold']].plot(figsize=(14, 6))\n",
    "plt.show()"
   ]
  },
  {
   "cell_type": "code",
   "execution_count": 15,
   "metadata": {},
   "outputs": [
    {
     "data": {
      "text/plain": [
       "array([[1.74424998e+01, 1.76000004e+01, 1.73999996e+01, 5.76088190e-02],\n",
       "       [1.82199998e+01, 1.97000008e+01, 1.73999996e+01, 9.15205137e-01],\n",
       "       [1.82299999e+01, 1.96000004e+01, 1.76000004e+01, 5.58659174e-01],\n",
       "       ...,\n",
       "       [5.73750006e+01, 5.74000015e+01, 5.72999992e+01, 3.70820980e-02],\n",
       "       [5.72394740e+01, 5.74000015e+01, 5.70000000e+01, 1.76649887e-01],\n",
       "       [5.65099995e+01, 5.67999992e+01, 5.60000000e+01, 2.31624555e-01]])"
      ]
     },
     "execution_count": 15,
     "metadata": {},
     "output_type": "execute_result"
    }
   ],
   "source": [
    "test"
   ]
  },
  {
   "cell_type": "code",
   "execution_count": 16,
   "metadata": {},
   "outputs": [
    {
     "data": {
      "text/plain": [
       "array([[5.69724997e+01, 5.70999985e+01, 5.67999992e+01, 9.54920670e-02],\n",
       "       [5.66950006e+01, 5.67500000e+01, 5.65999985e+01, 3.84056150e-02],\n",
       "       [5.66400003e+01, 5.67000008e+01, 5.64000015e+01, 6.81912110e-02],\n",
       "       ...,\n",
       "       [5.07425001e+01, 5.07999992e+01, 5.07000008e+01, 4.81526660e-02],\n",
       "       [5.07999992e+01, 5.07999992e+01, 5.07999992e+01, 2.13000000e-14],\n",
       "       [5.07724997e+01, 5.07999992e+01, 5.07000008e+01, 3.69960570e-02]])"
      ]
     },
     "execution_count": 16,
     "metadata": {},
     "output_type": "execute_result"
    }
   ],
   "source": [
    "train"
   ]
  },
  {
   "cell_type": "code",
   "execution_count": 17,
   "metadata": {},
   "outputs": [],
   "source": [
    "train_df = pd.DataFrame(train,columns=['Gear oil temperature (°C)','Gear oil temperature, Max (°C)','Gear oil temperature, Min (°C)','Gear oil temperature, Standard deviation (°C)'], index=training['Date and time'])\n",
    "test_df = pd.DataFrame(test,columns=['Gear oil temperature (°C)','Gear oil temperature, Max (°C)','Gear oil temperature, Min (°C)','Gear oil temperature, Standard deviation (°C)'], index=testing['Date and time'])"
   ]
  },
  {
   "cell_type": "code",
   "execution_count": 18,
   "metadata": {},
   "outputs": [
    {
     "data": {
      "text/html": [
       "<div>\n",
       "<style scoped>\n",
       "    .dataframe tbody tr th:only-of-type {\n",
       "        vertical-align: middle;\n",
       "    }\n",
       "\n",
       "    .dataframe tbody tr th {\n",
       "        vertical-align: top;\n",
       "    }\n",
       "\n",
       "    .dataframe thead th {\n",
       "        text-align: right;\n",
       "    }\n",
       "</style>\n",
       "<table border=\"1\" class=\"dataframe\">\n",
       "  <thead>\n",
       "    <tr style=\"text-align: right;\">\n",
       "      <th></th>\n",
       "      <th>Gear oil temperature (°C)</th>\n",
       "      <th>Gear oil temperature, Max (°C)</th>\n",
       "      <th>Gear oil temperature, Min (°C)</th>\n",
       "      <th>Gear oil temperature, Standard deviation (°C)</th>\n",
       "    </tr>\n",
       "    <tr>\n",
       "      <th>Date and time</th>\n",
       "      <th></th>\n",
       "      <th></th>\n",
       "      <th></th>\n",
       "      <th></th>\n",
       "    </tr>\n",
       "  </thead>\n",
       "  <tbody>\n",
       "    <tr>\n",
       "      <th>01-01-2020 00:00</th>\n",
       "      <td>56.972500</td>\n",
       "      <td>57.099998</td>\n",
       "      <td>56.799999</td>\n",
       "      <td>9.549207e-02</td>\n",
       "    </tr>\n",
       "    <tr>\n",
       "      <th>01-01-2020 00:10</th>\n",
       "      <td>56.695001</td>\n",
       "      <td>56.750000</td>\n",
       "      <td>56.599998</td>\n",
       "      <td>3.840561e-02</td>\n",
       "    </tr>\n",
       "    <tr>\n",
       "      <th>01-01-2020 00:20</th>\n",
       "      <td>56.640000</td>\n",
       "      <td>56.700001</td>\n",
       "      <td>56.400002</td>\n",
       "      <td>6.819121e-02</td>\n",
       "    </tr>\n",
       "    <tr>\n",
       "      <th>01-01-2020 00:30</th>\n",
       "      <td>56.432500</td>\n",
       "      <td>56.650002</td>\n",
       "      <td>56.299999</td>\n",
       "      <td>1.028044e-01</td>\n",
       "    </tr>\n",
       "    <tr>\n",
       "      <th>01-01-2020 00:40</th>\n",
       "      <td>56.169998</td>\n",
       "      <td>56.349998</td>\n",
       "      <td>56.049999</td>\n",
       "      <td>9.797955e-02</td>\n",
       "    </tr>\n",
       "    <tr>\n",
       "      <th>...</th>\n",
       "      <td>...</td>\n",
       "      <td>...</td>\n",
       "      <td>...</td>\n",
       "      <td>...</td>\n",
       "    </tr>\n",
       "    <tr>\n",
       "      <th>31-12-2020 23:10</th>\n",
       "      <td>50.830000</td>\n",
       "      <td>51.000000</td>\n",
       "      <td>50.799999</td>\n",
       "      <td>6.403169e-02</td>\n",
       "    </tr>\n",
       "    <tr>\n",
       "      <th>31-12-2020 23:20</th>\n",
       "      <td>50.792500</td>\n",
       "      <td>50.900002</td>\n",
       "      <td>50.700001</td>\n",
       "      <td>6.759271e-02</td>\n",
       "    </tr>\n",
       "    <tr>\n",
       "      <th>31-12-2020 23:30</th>\n",
       "      <td>50.742500</td>\n",
       "      <td>50.799999</td>\n",
       "      <td>50.700001</td>\n",
       "      <td>4.815267e-02</td>\n",
       "    </tr>\n",
       "    <tr>\n",
       "      <th>31-12-2020 23:40</th>\n",
       "      <td>50.799999</td>\n",
       "      <td>50.799999</td>\n",
       "      <td>50.799999</td>\n",
       "      <td>2.130000e-14</td>\n",
       "    </tr>\n",
       "    <tr>\n",
       "      <th>31-12-2020 23:50</th>\n",
       "      <td>50.772500</td>\n",
       "      <td>50.799999</td>\n",
       "      <td>50.700001</td>\n",
       "      <td>3.699606e-02</td>\n",
       "    </tr>\n",
       "  </tbody>\n",
       "</table>\n",
       "<p>311918 rows × 4 columns</p>\n",
       "</div>"
      ],
      "text/plain": [
       "                  Gear oil temperature (°C)  Gear oil temperature, Max (°C)  \\\n",
       "Date and time                                                                 \n",
       "01-01-2020 00:00                  56.972500                       57.099998   \n",
       "01-01-2020 00:10                  56.695001                       56.750000   \n",
       "01-01-2020 00:20                  56.640000                       56.700001   \n",
       "01-01-2020 00:30                  56.432500                       56.650002   \n",
       "01-01-2020 00:40                  56.169998                       56.349998   \n",
       "...                                     ...                             ...   \n",
       "31-12-2020 23:10                  50.830000                       51.000000   \n",
       "31-12-2020 23:20                  50.792500                       50.900002   \n",
       "31-12-2020 23:30                  50.742500                       50.799999   \n",
       "31-12-2020 23:40                  50.799999                       50.799999   \n",
       "31-12-2020 23:50                  50.772500                       50.799999   \n",
       "\n",
       "                  Gear oil temperature, Min (°C)  \\\n",
       "Date and time                                      \n",
       "01-01-2020 00:00                       56.799999   \n",
       "01-01-2020 00:10                       56.599998   \n",
       "01-01-2020 00:20                       56.400002   \n",
       "01-01-2020 00:30                       56.299999   \n",
       "01-01-2020 00:40                       56.049999   \n",
       "...                                          ...   \n",
       "31-12-2020 23:10                       50.799999   \n",
       "31-12-2020 23:20                       50.700001   \n",
       "31-12-2020 23:30                       50.700001   \n",
       "31-12-2020 23:40                       50.799999   \n",
       "31-12-2020 23:50                       50.700001   \n",
       "\n",
       "                  Gear oil temperature, Standard deviation (°C)  \n",
       "Date and time                                                    \n",
       "01-01-2020 00:00                                   9.549207e-02  \n",
       "01-01-2020 00:10                                   3.840561e-02  \n",
       "01-01-2020 00:20                                   6.819121e-02  \n",
       "01-01-2020 00:30                                   1.028044e-01  \n",
       "01-01-2020 00:40                                   9.797955e-02  \n",
       "...                                                         ...  \n",
       "31-12-2020 23:10                                   6.403169e-02  \n",
       "31-12-2020 23:20                                   6.759271e-02  \n",
       "31-12-2020 23:30                                   4.815267e-02  \n",
       "31-12-2020 23:40                                   2.130000e-14  \n",
       "31-12-2020 23:50                                   3.699606e-02  \n",
       "\n",
       "[311918 rows x 4 columns]"
      ]
     },
     "execution_count": 18,
     "metadata": {},
     "output_type": "execute_result"
    }
   ],
   "source": [
    "train_df"
   ]
  },
  {
   "cell_type": "code",
   "execution_count": 19,
   "metadata": {},
   "outputs": [
    {
     "data": {
      "text/html": [
       "<div>\n",
       "<style scoped>\n",
       "    .dataframe tbody tr th:only-of-type {\n",
       "        vertical-align: middle;\n",
       "    }\n",
       "\n",
       "    .dataframe tbody tr th {\n",
       "        vertical-align: top;\n",
       "    }\n",
       "\n",
       "    .dataframe thead th {\n",
       "        text-align: right;\n",
       "    }\n",
       "</style>\n",
       "<table border=\"1\" class=\"dataframe\">\n",
       "  <thead>\n",
       "    <tr style=\"text-align: right;\">\n",
       "      <th></th>\n",
       "      <th>Gear oil temperature (°C)</th>\n",
       "      <th>Gear oil temperature, Max (°C)</th>\n",
       "      <th>Gear oil temperature, Min (°C)</th>\n",
       "      <th>Gear oil temperature, Standard deviation (°C)</th>\n",
       "    </tr>\n",
       "    <tr>\n",
       "      <th>Date and time</th>\n",
       "      <th></th>\n",
       "      <th></th>\n",
       "      <th></th>\n",
       "      <th></th>\n",
       "    </tr>\n",
       "  </thead>\n",
       "  <tbody>\n",
       "    <tr>\n",
       "      <th>01-01-2021 00:00</th>\n",
       "      <td>17.442500</td>\n",
       "      <td>17.600000</td>\n",
       "      <td>17.400000</td>\n",
       "      <td>0.057609</td>\n",
       "    </tr>\n",
       "    <tr>\n",
       "      <th>01-01-2021 00:10</th>\n",
       "      <td>18.220000</td>\n",
       "      <td>19.700001</td>\n",
       "      <td>17.400000</td>\n",
       "      <td>0.915205</td>\n",
       "    </tr>\n",
       "    <tr>\n",
       "      <th>01-01-2021 00:20</th>\n",
       "      <td>18.230000</td>\n",
       "      <td>19.600000</td>\n",
       "      <td>17.600000</td>\n",
       "      <td>0.558659</td>\n",
       "    </tr>\n",
       "    <tr>\n",
       "      <th>01-01-2021 00:30</th>\n",
       "      <td>17.485000</td>\n",
       "      <td>17.799999</td>\n",
       "      <td>17.100000</td>\n",
       "      <td>0.212779</td>\n",
       "    </tr>\n",
       "    <tr>\n",
       "      <th>01-01-2021 00:40</th>\n",
       "      <td>17.785000</td>\n",
       "      <td>18.900000</td>\n",
       "      <td>17.100000</td>\n",
       "      <td>0.721474</td>\n",
       "    </tr>\n",
       "    <tr>\n",
       "      <th>...</th>\n",
       "      <td>...</td>\n",
       "      <td>...</td>\n",
       "      <td>...</td>\n",
       "      <td>...</td>\n",
       "    </tr>\n",
       "    <tr>\n",
       "      <th>16-06-2021 07:40</th>\n",
       "      <td>57.497499</td>\n",
       "      <td>57.700001</td>\n",
       "      <td>57.049999</td>\n",
       "      <td>0.178518</td>\n",
       "    </tr>\n",
       "    <tr>\n",
       "      <th>16-06-2021 07:50</th>\n",
       "      <td>57.591667</td>\n",
       "      <td>57.750000</td>\n",
       "      <td>57.400002</td>\n",
       "      <td>0.113345</td>\n",
       "    </tr>\n",
       "    <tr>\n",
       "      <th>16-06-2021 08:00</th>\n",
       "      <td>57.375001</td>\n",
       "      <td>57.400002</td>\n",
       "      <td>57.299999</td>\n",
       "      <td>0.037082</td>\n",
       "    </tr>\n",
       "    <tr>\n",
       "      <th>16-06-2021 08:10</th>\n",
       "      <td>57.239474</td>\n",
       "      <td>57.400002</td>\n",
       "      <td>57.000000</td>\n",
       "      <td>0.176650</td>\n",
       "    </tr>\n",
       "    <tr>\n",
       "      <th>16-06-2021 08:20</th>\n",
       "      <td>56.509999</td>\n",
       "      <td>56.799999</td>\n",
       "      <td>56.000000</td>\n",
       "      <td>0.231625</td>\n",
       "    </tr>\n",
       "  </tbody>\n",
       "</table>\n",
       "<p>142892 rows × 4 columns</p>\n",
       "</div>"
      ],
      "text/plain": [
       "                  Gear oil temperature (°C)  Gear oil temperature, Max (°C)  \\\n",
       "Date and time                                                                 \n",
       "01-01-2021 00:00                  17.442500                       17.600000   \n",
       "01-01-2021 00:10                  18.220000                       19.700001   \n",
       "01-01-2021 00:20                  18.230000                       19.600000   \n",
       "01-01-2021 00:30                  17.485000                       17.799999   \n",
       "01-01-2021 00:40                  17.785000                       18.900000   \n",
       "...                                     ...                             ...   \n",
       "16-06-2021 07:40                  57.497499                       57.700001   \n",
       "16-06-2021 07:50                  57.591667                       57.750000   \n",
       "16-06-2021 08:00                  57.375001                       57.400002   \n",
       "16-06-2021 08:10                  57.239474                       57.400002   \n",
       "16-06-2021 08:20                  56.509999                       56.799999   \n",
       "\n",
       "                  Gear oil temperature, Min (°C)  \\\n",
       "Date and time                                      \n",
       "01-01-2021 00:00                       17.400000   \n",
       "01-01-2021 00:10                       17.400000   \n",
       "01-01-2021 00:20                       17.600000   \n",
       "01-01-2021 00:30                       17.100000   \n",
       "01-01-2021 00:40                       17.100000   \n",
       "...                                          ...   \n",
       "16-06-2021 07:40                       57.049999   \n",
       "16-06-2021 07:50                       57.400002   \n",
       "16-06-2021 08:00                       57.299999   \n",
       "16-06-2021 08:10                       57.000000   \n",
       "16-06-2021 08:20                       56.000000   \n",
       "\n",
       "                  Gear oil temperature, Standard deviation (°C)  \n",
       "Date and time                                                    \n",
       "01-01-2021 00:00                                       0.057609  \n",
       "01-01-2021 00:10                                       0.915205  \n",
       "01-01-2021 00:20                                       0.558659  \n",
       "01-01-2021 00:30                                       0.212779  \n",
       "01-01-2021 00:40                                       0.721474  \n",
       "...                                                         ...  \n",
       "16-06-2021 07:40                                       0.178518  \n",
       "16-06-2021 07:50                                       0.113345  \n",
       "16-06-2021 08:00                                       0.037082  \n",
       "16-06-2021 08:10                                       0.176650  \n",
       "16-06-2021 08:20                                       0.231625  \n",
       "\n",
       "[142892 rows x 4 columns]"
      ]
     },
     "execution_count": 19,
     "metadata": {},
     "output_type": "execute_result"
    }
   ],
   "source": [
    "test_df"
   ]
  },
  {
   "cell_type": "markdown",
   "metadata": {},
   "source": [
    "Building the LSTM Model"
   ]
  },
  {
   "cell_type": "code",
   "execution_count": 20,
   "metadata": {},
   "outputs": [],
   "source": [
    "train_df = train_df.drop(['Gear oil temperature, Min (°C)','Gear oil temperature, Max (°C)','Gear oil temperature, Standard deviation (°C)'], axis=1)\n",
    "test_df = test_df.drop(['Gear oil temperature, Min (°C)','Gear oil temperature, Max (°C)', 'Gear oil temperature, Standard deviation (°C)'], axis=1)"
   ]
  },
  {
   "cell_type": "code",
   "execution_count": 21,
   "metadata": {},
   "outputs": [
    {
     "data": {
      "text/html": [
       "<div>\n",
       "<style scoped>\n",
       "    .dataframe tbody tr th:only-of-type {\n",
       "        vertical-align: middle;\n",
       "    }\n",
       "\n",
       "    .dataframe tbody tr th {\n",
       "        vertical-align: top;\n",
       "    }\n",
       "\n",
       "    .dataframe thead th {\n",
       "        text-align: right;\n",
       "    }\n",
       "</style>\n",
       "<table border=\"1\" class=\"dataframe\">\n",
       "  <thead>\n",
       "    <tr style=\"text-align: right;\">\n",
       "      <th></th>\n",
       "      <th>Gear oil temperature (°C)</th>\n",
       "    </tr>\n",
       "    <tr>\n",
       "      <th>Date and time</th>\n",
       "      <th></th>\n",
       "    </tr>\n",
       "  </thead>\n",
       "  <tbody>\n",
       "    <tr>\n",
       "      <th>01-01-2021 00:00</th>\n",
       "      <td>17.442500</td>\n",
       "    </tr>\n",
       "    <tr>\n",
       "      <th>01-01-2021 00:10</th>\n",
       "      <td>18.220000</td>\n",
       "    </tr>\n",
       "    <tr>\n",
       "      <th>01-01-2021 00:20</th>\n",
       "      <td>18.230000</td>\n",
       "    </tr>\n",
       "    <tr>\n",
       "      <th>01-01-2021 00:30</th>\n",
       "      <td>17.485000</td>\n",
       "    </tr>\n",
       "    <tr>\n",
       "      <th>01-01-2021 00:40</th>\n",
       "      <td>17.785000</td>\n",
       "    </tr>\n",
       "    <tr>\n",
       "      <th>...</th>\n",
       "      <td>...</td>\n",
       "    </tr>\n",
       "    <tr>\n",
       "      <th>16-06-2021 07:40</th>\n",
       "      <td>57.497499</td>\n",
       "    </tr>\n",
       "    <tr>\n",
       "      <th>16-06-2021 07:50</th>\n",
       "      <td>57.591667</td>\n",
       "    </tr>\n",
       "    <tr>\n",
       "      <th>16-06-2021 08:00</th>\n",
       "      <td>57.375001</td>\n",
       "    </tr>\n",
       "    <tr>\n",
       "      <th>16-06-2021 08:10</th>\n",
       "      <td>57.239474</td>\n",
       "    </tr>\n",
       "    <tr>\n",
       "      <th>16-06-2021 08:20</th>\n",
       "      <td>56.509999</td>\n",
       "    </tr>\n",
       "  </tbody>\n",
       "</table>\n",
       "<p>142892 rows × 1 columns</p>\n",
       "</div>"
      ],
      "text/plain": [
       "                  Gear oil temperature (°C)\n",
       "Date and time                              \n",
       "01-01-2021 00:00                  17.442500\n",
       "01-01-2021 00:10                  18.220000\n",
       "01-01-2021 00:20                  18.230000\n",
       "01-01-2021 00:30                  17.485000\n",
       "01-01-2021 00:40                  17.785000\n",
       "...                                     ...\n",
       "16-06-2021 07:40                  57.497499\n",
       "16-06-2021 07:50                  57.591667\n",
       "16-06-2021 08:00                  57.375001\n",
       "16-06-2021 08:10                  57.239474\n",
       "16-06-2021 08:20                  56.509999\n",
       "\n",
       "[142892 rows x 1 columns]"
      ]
     },
     "execution_count": 21,
     "metadata": {},
     "output_type": "execute_result"
    }
   ],
   "source": [
    "test_df"
   ]
  },
  {
   "cell_type": "code",
   "execution_count": 22,
   "metadata": {},
   "outputs": [
    {
     "data": {
      "text/html": [
       "<div>\n",
       "<style scoped>\n",
       "    .dataframe tbody tr th:only-of-type {\n",
       "        vertical-align: middle;\n",
       "    }\n",
       "\n",
       "    .dataframe tbody tr th {\n",
       "        vertical-align: top;\n",
       "    }\n",
       "\n",
       "    .dataframe thead th {\n",
       "        text-align: right;\n",
       "    }\n",
       "</style>\n",
       "<table border=\"1\" class=\"dataframe\">\n",
       "  <thead>\n",
       "    <tr style=\"text-align: right;\">\n",
       "      <th></th>\n",
       "      <th>Gear oil temperature (°C)</th>\n",
       "    </tr>\n",
       "    <tr>\n",
       "      <th>Date and time</th>\n",
       "      <th></th>\n",
       "    </tr>\n",
       "  </thead>\n",
       "  <tbody>\n",
       "    <tr>\n",
       "      <th>01-01-2020 00:00</th>\n",
       "      <td>56.972500</td>\n",
       "    </tr>\n",
       "    <tr>\n",
       "      <th>01-01-2020 00:10</th>\n",
       "      <td>56.695001</td>\n",
       "    </tr>\n",
       "    <tr>\n",
       "      <th>01-01-2020 00:20</th>\n",
       "      <td>56.640000</td>\n",
       "    </tr>\n",
       "    <tr>\n",
       "      <th>01-01-2020 00:30</th>\n",
       "      <td>56.432500</td>\n",
       "    </tr>\n",
       "    <tr>\n",
       "      <th>01-01-2020 00:40</th>\n",
       "      <td>56.169998</td>\n",
       "    </tr>\n",
       "    <tr>\n",
       "      <th>...</th>\n",
       "      <td>...</td>\n",
       "    </tr>\n",
       "    <tr>\n",
       "      <th>31-12-2020 23:10</th>\n",
       "      <td>50.830000</td>\n",
       "    </tr>\n",
       "    <tr>\n",
       "      <th>31-12-2020 23:20</th>\n",
       "      <td>50.792500</td>\n",
       "    </tr>\n",
       "    <tr>\n",
       "      <th>31-12-2020 23:30</th>\n",
       "      <td>50.742500</td>\n",
       "    </tr>\n",
       "    <tr>\n",
       "      <th>31-12-2020 23:40</th>\n",
       "      <td>50.799999</td>\n",
       "    </tr>\n",
       "    <tr>\n",
       "      <th>31-12-2020 23:50</th>\n",
       "      <td>50.772500</td>\n",
       "    </tr>\n",
       "  </tbody>\n",
       "</table>\n",
       "<p>311918 rows × 1 columns</p>\n",
       "</div>"
      ],
      "text/plain": [
       "                  Gear oil temperature (°C)\n",
       "Date and time                              \n",
       "01-01-2020 00:00                  56.972500\n",
       "01-01-2020 00:10                  56.695001\n",
       "01-01-2020 00:20                  56.640000\n",
       "01-01-2020 00:30                  56.432500\n",
       "01-01-2020 00:40                  56.169998\n",
       "...                                     ...\n",
       "31-12-2020 23:10                  50.830000\n",
       "31-12-2020 23:20                  50.792500\n",
       "31-12-2020 23:30                  50.742500\n",
       "31-12-2020 23:40                  50.799999\n",
       "31-12-2020 23:50                  50.772500\n",
       "\n",
       "[311918 rows x 1 columns]"
      ]
     },
     "execution_count": 22,
     "metadata": {},
     "output_type": "execute_result"
    }
   ],
   "source": [
    "train_df"
   ]
  },
  {
   "cell_type": "code",
   "execution_count": 23,
   "metadata": {},
   "outputs": [
    {
     "data": {
      "text/plain": [
       "<Axes: xlabel='Date and time'>"
      ]
     },
     "execution_count": 23,
     "metadata": {},
     "output_type": "execute_result"
    },
    {
     "data": {
      "image/png": "[encoded data removed]",
      "text/plain": [
       "<Figure size 1400x600 with 1 Axes>"
      ]
     },
     "metadata": {},
     "output_type": "display_data"
    }
   ],
   "source": [
    "train_df[['Gear oil temperature (°C)']].plot(figsize=(14, 6))"
   ]
  },
  {
   "cell_type": "code",
   "execution_count": 24,
   "metadata": {},
   "outputs": [
    {
     "data": {
      "text/plain": [
       "<Axes: xlabel='Date and time'>"
      ]
     },
     "execution_count": 24,
     "metadata": {},
     "output_type": "execute_result"
    },
    {
     "data": {
      "image/png": "[encoded data removed]",
      "text/plain": [
       "<Figure size 1400x600 with 1 Axes>"
      ]
     },
     "metadata": {},
     "output_type": "display_data"
    }
   ],
   "source": [
    "test_df[['Gear oil temperature (°C)']].plot(figsize=(14, 6))"
   ]
  },
  {
   "cell_type": "code",
   "execution_count": 25,
   "metadata": {},
   "outputs": [],
   "source": [
    "train_df.rename(columns={'Gear oil temperature (°C)':'y'}, inplace=True)\n",
    "test_df.rename(columns={'Gear oil temperature (°C)':'y'}, inplace=True)"
   ]
  },
  {
   "cell_type": "code",
   "execution_count": 26,
   "metadata": {},
   "outputs": [
    {
     "data": {
      "text/html": [
       "<div>\n",
       "<style scoped>\n",
       "    .dataframe tbody tr th:only-of-type {\n",
       "        vertical-align: middle;\n",
       "    }\n",
       "\n",
       "    .dataframe tbody tr th {\n",
       "        vertical-align: top;\n",
       "    }\n",
       "\n",
       "    .dataframe thead th {\n",
       "        text-align: right;\n",
       "    }\n",
       "</style>\n",
       "<table border=\"1\" class=\"dataframe\">\n",
       "  <thead>\n",
       "    <tr style=\"text-align: right;\">\n",
       "      <th></th>\n",
       "      <th>y</th>\n",
       "    </tr>\n",
       "    <tr>\n",
       "      <th>Date and time</th>\n",
       "      <th></th>\n",
       "    </tr>\n",
       "  </thead>\n",
       "  <tbody>\n",
       "    <tr>\n",
       "      <th>01-01-2020 00:00</th>\n",
       "      <td>56.972500</td>\n",
       "    </tr>\n",
       "    <tr>\n",
       "      <th>01-01-2020 00:10</th>\n",
       "      <td>56.695001</td>\n",
       "    </tr>\n",
       "    <tr>\n",
       "      <th>01-01-2020 00:20</th>\n",
       "      <td>56.640000</td>\n",
       "    </tr>\n",
       "    <tr>\n",
       "      <th>01-01-2020 00:30</th>\n",
       "      <td>56.432500</td>\n",
       "    </tr>\n",
       "    <tr>\n",
       "      <th>01-01-2020 00:40</th>\n",
       "      <td>56.169998</td>\n",
       "    </tr>\n",
       "    <tr>\n",
       "      <th>...</th>\n",
       "      <td>...</td>\n",
       "    </tr>\n",
       "    <tr>\n",
       "      <th>31-12-2020 23:10</th>\n",
       "      <td>50.830000</td>\n",
       "    </tr>\n",
       "    <tr>\n",
       "      <th>31-12-2020 23:20</th>\n",
       "      <td>50.792500</td>\n",
       "    </tr>\n",
       "    <tr>\n",
       "      <th>31-12-2020 23:30</th>\n",
       "      <td>50.742500</td>\n",
       "    </tr>\n",
       "    <tr>\n",
       "      <th>31-12-2020 23:40</th>\n",
       "      <td>50.799999</td>\n",
       "    </tr>\n",
       "    <tr>\n",
       "      <th>31-12-2020 23:50</th>\n",
       "      <td>50.772500</td>\n",
       "    </tr>\n",
       "  </tbody>\n",
       "</table>\n",
       "<p>311918 rows × 1 columns</p>\n",
       "</div>"
      ],
      "text/plain": [
       "                          y\n",
       "Date and time              \n",
       "01-01-2020 00:00  56.972500\n",
       "01-01-2020 00:10  56.695001\n",
       "01-01-2020 00:20  56.640000\n",
       "01-01-2020 00:30  56.432500\n",
       "01-01-2020 00:40  56.169998\n",
       "...                     ...\n",
       "31-12-2020 23:10  50.830000\n",
       "31-12-2020 23:20  50.792500\n",
       "31-12-2020 23:30  50.742500\n",
       "31-12-2020 23:40  50.799999\n",
       "31-12-2020 23:50  50.772500\n",
       "\n",
       "[311918 rows x 1 columns]"
      ]
     },
     "execution_count": 26,
     "metadata": {},
     "output_type": "execute_result"
    }
   ],
   "source": [
    "train_df"
   ]
  },
  {
   "cell_type": "code",
   "execution_count": 27,
   "metadata": {},
   "outputs": [
    {
     "data": {
      "text/html": [
       "<div>\n",
       "<style scoped>\n",
       "    .dataframe tbody tr th:only-of-type {\n",
       "        vertical-align: middle;\n",
       "    }\n",
       "\n",
       "    .dataframe tbody tr th {\n",
       "        vertical-align: top;\n",
       "    }\n",
       "\n",
       "    .dataframe thead th {\n",
       "        text-align: right;\n",
       "    }\n",
       "</style>\n",
       "<table border=\"1\" class=\"dataframe\">\n",
       "  <thead>\n",
       "    <tr style=\"text-align: right;\">\n",
       "      <th></th>\n",
       "      <th>y</th>\n",
       "    </tr>\n",
       "    <tr>\n",
       "      <th>Date and time</th>\n",
       "      <th></th>\n",
       "    </tr>\n",
       "  </thead>\n",
       "  <tbody>\n",
       "    <tr>\n",
       "      <th>01-01-2021 00:00</th>\n",
       "      <td>17.442500</td>\n",
       "    </tr>\n",
       "    <tr>\n",
       "      <th>01-01-2021 00:10</th>\n",
       "      <td>18.220000</td>\n",
       "    </tr>\n",
       "    <tr>\n",
       "      <th>01-01-2021 00:20</th>\n",
       "      <td>18.230000</td>\n",
       "    </tr>\n",
       "    <tr>\n",
       "      <th>01-01-2021 00:30</th>\n",
       "      <td>17.485000</td>\n",
       "    </tr>\n",
       "    <tr>\n",
       "      <th>01-01-2021 00:40</th>\n",
       "      <td>17.785000</td>\n",
       "    </tr>\n",
       "    <tr>\n",
       "      <th>...</th>\n",
       "      <td>...</td>\n",
       "    </tr>\n",
       "    <tr>\n",
       "      <th>16-06-2021 07:40</th>\n",
       "      <td>57.497499</td>\n",
       "    </tr>\n",
       "    <tr>\n",
       "      <th>16-06-2021 07:50</th>\n",
       "      <td>57.591667</td>\n",
       "    </tr>\n",
       "    <tr>\n",
       "      <th>16-06-2021 08:00</th>\n",
       "      <td>57.375001</td>\n",
       "    </tr>\n",
       "    <tr>\n",
       "      <th>16-06-2021 08:10</th>\n",
       "      <td>57.239474</td>\n",
       "    </tr>\n",
       "    <tr>\n",
       "      <th>16-06-2021 08:20</th>\n",
       "      <td>56.509999</td>\n",
       "    </tr>\n",
       "  </tbody>\n",
       "</table>\n",
       "<p>142892 rows × 1 columns</p>\n",
       "</div>"
      ],
      "text/plain": [
       "                          y\n",
       "Date and time              \n",
       "01-01-2021 00:00  17.442500\n",
       "01-01-2021 00:10  18.220000\n",
       "01-01-2021 00:20  18.230000\n",
       "01-01-2021 00:30  17.485000\n",
       "01-01-2021 00:40  17.785000\n",
       "...                     ...\n",
       "16-06-2021 07:40  57.497499\n",
       "16-06-2021 07:50  57.591667\n",
       "16-06-2021 08:00  57.375001\n",
       "16-06-2021 08:10  57.239474\n",
       "16-06-2021 08:20  56.509999\n",
       "\n",
       "[142892 rows x 1 columns]"
      ]
     },
     "execution_count": 27,
     "metadata": {},
     "output_type": "execute_result"
    }
   ],
   "source": [
    "test_df"
   ]
  },
  {
   "cell_type": "code",
   "execution_count": 28,
   "metadata": {},
   "outputs": [],
   "source": [
    "train_df['x1']= train_df['y'].shift()\n",
    "train_df['x2']= train_df['y'].shift(2)\n",
    "train_df['x3']= train_df['y'].shift(3)"
   ]
  },
  {
   "cell_type": "code",
   "execution_count": 29,
   "metadata": {},
   "outputs": [],
   "source": [
    "test_df['x1']= test_df['y'].shift()\n",
    "test_df['x2']= test_df['y'].shift(2)\n",
    "test_df['x3']= test_df['y'].shift(3)"
   ]
  },
  {
   "cell_type": "code",
   "execution_count": 30,
   "metadata": {},
   "outputs": [
    {
     "data": {
      "text/html": [
       "<div>\n",
       "<style scoped>\n",
       "    .dataframe tbody tr th:only-of-type {\n",
       "        vertical-align: middle;\n",
       "    }\n",
       "\n",
       "    .dataframe tbody tr th {\n",
       "        vertical-align: top;\n",
       "    }\n",
       "\n",
       "    .dataframe thead th {\n",
       "        text-align: right;\n",
       "    }\n",
       "</style>\n",
       "<table border=\"1\" class=\"dataframe\">\n",
       "  <thead>\n",
       "    <tr style=\"text-align: right;\">\n",
       "      <th></th>\n",
       "      <th>y</th>\n",
       "      <th>x1</th>\n",
       "      <th>x2</th>\n",
       "      <th>x3</th>\n",
       "    </tr>\n",
       "    <tr>\n",
       "      <th>Date and time</th>\n",
       "      <th></th>\n",
       "      <th></th>\n",
       "      <th></th>\n",
       "      <th></th>\n",
       "    </tr>\n",
       "  </thead>\n",
       "  <tbody>\n",
       "    <tr>\n",
       "      <th>01-01-2020 00:00</th>\n",
       "      <td>56.972500</td>\n",
       "      <td>NaN</td>\n",
       "      <td>NaN</td>\n",
       "      <td>NaN</td>\n",
       "    </tr>\n",
       "    <tr>\n",
       "      <th>01-01-2020 00:10</th>\n",
       "      <td>56.695001</td>\n",
       "      <td>56.972500</td>\n",
       "      <td>NaN</td>\n",
       "      <td>NaN</td>\n",
       "    </tr>\n",
       "    <tr>\n",
       "      <th>01-01-2020 00:20</th>\n",
       "      <td>56.640000</td>\n",
       "      <td>56.695001</td>\n",
       "      <td>56.972500</td>\n",
       "      <td>NaN</td>\n",
       "    </tr>\n",
       "    <tr>\n",
       "      <th>01-01-2020 00:30</th>\n",
       "      <td>56.432500</td>\n",
       "      <td>56.640000</td>\n",
       "      <td>56.695001</td>\n",
       "      <td>56.972500</td>\n",
       "    </tr>\n",
       "    <tr>\n",
       "      <th>01-01-2020 00:40</th>\n",
       "      <td>56.169998</td>\n",
       "      <td>56.432500</td>\n",
       "      <td>56.640000</td>\n",
       "      <td>56.695001</td>\n",
       "    </tr>\n",
       "    <tr>\n",
       "      <th>...</th>\n",
       "      <td>...</td>\n",
       "      <td>...</td>\n",
       "      <td>...</td>\n",
       "      <td>...</td>\n",
       "    </tr>\n",
       "    <tr>\n",
       "      <th>31-12-2020 23:10</th>\n",
       "      <td>50.830000</td>\n",
       "      <td>50.880000</td>\n",
       "      <td>51.015000</td>\n",
       "      <td>51.052500</td>\n",
       "    </tr>\n",
       "    <tr>\n",
       "      <th>31-12-2020 23:20</th>\n",
       "      <td>50.792500</td>\n",
       "      <td>50.830000</td>\n",
       "      <td>50.880000</td>\n",
       "      <td>51.015000</td>\n",
       "    </tr>\n",
       "    <tr>\n",
       "      <th>31-12-2020 23:30</th>\n",
       "      <td>50.742500</td>\n",
       "      <td>50.792500</td>\n",
       "      <td>50.830000</td>\n",
       "      <td>50.880000</td>\n",
       "    </tr>\n",
       "    <tr>\n",
       "      <th>31-12-2020 23:40</th>\n",
       "      <td>50.799999</td>\n",
       "      <td>50.742500</td>\n",
       "      <td>50.792500</td>\n",
       "      <td>50.830000</td>\n",
       "    </tr>\n",
       "    <tr>\n",
       "      <th>31-12-2020 23:50</th>\n",
       "      <td>50.772500</td>\n",
       "      <td>50.799999</td>\n",
       "      <td>50.742500</td>\n",
       "      <td>50.792500</td>\n",
       "    </tr>\n",
       "  </tbody>\n",
       "</table>\n",
       "<p>311918 rows × 4 columns</p>\n",
       "</div>"
      ],
      "text/plain": [
       "                          y         x1         x2         x3\n",
       "Date and time                                               \n",
       "01-01-2020 00:00  56.972500        NaN        NaN        NaN\n",
       "01-01-2020 00:10  56.695001  56.972500        NaN        NaN\n",
       "01-01-2020 00:20  56.640000  56.695001  56.972500        NaN\n",
       "01-01-2020 00:30  56.432500  56.640000  56.695001  56.972500\n",
       "01-01-2020 00:40  56.169998  56.432500  56.640000  56.695001\n",
       "...                     ...        ...        ...        ...\n",
       "31-12-2020 23:10  50.830000  50.880000  51.015000  51.052500\n",
       "31-12-2020 23:20  50.792500  50.830000  50.880000  51.015000\n",
       "31-12-2020 23:30  50.742500  50.792500  50.830000  50.880000\n",
       "31-12-2020 23:40  50.799999  50.742500  50.792500  50.830000\n",
       "31-12-2020 23:50  50.772500  50.799999  50.742500  50.792500\n",
       "\n",
       "[311918 rows x 4 columns]"
      ]
     },
     "execution_count": 30,
     "metadata": {},
     "output_type": "execute_result"
    }
   ],
   "source": [
    "train_df"
   ]
  },
  {
   "cell_type": "code",
   "execution_count": 31,
   "metadata": {},
   "outputs": [
    {
     "data": {
      "text/html": [
       "<div>\n",
       "<style scoped>\n",
       "    .dataframe tbody tr th:only-of-type {\n",
       "        vertical-align: middle;\n",
       "    }\n",
       "\n",
       "    .dataframe tbody tr th {\n",
       "        vertical-align: top;\n",
       "    }\n",
       "\n",
       "    .dataframe thead th {\n",
       "        text-align: right;\n",
       "    }\n",
       "</style>\n",
       "<table border=\"1\" class=\"dataframe\">\n",
       "  <thead>\n",
       "    <tr style=\"text-align: right;\">\n",
       "      <th></th>\n",
       "      <th>y</th>\n",
       "      <th>x1</th>\n",
       "      <th>x2</th>\n",
       "      <th>x3</th>\n",
       "    </tr>\n",
       "    <tr>\n",
       "      <th>Date and time</th>\n",
       "      <th></th>\n",
       "      <th></th>\n",
       "      <th></th>\n",
       "      <th></th>\n",
       "    </tr>\n",
       "  </thead>\n",
       "  <tbody>\n",
       "    <tr>\n",
       "      <th>01-01-2021 00:00</th>\n",
       "      <td>17.442500</td>\n",
       "      <td>NaN</td>\n",
       "      <td>NaN</td>\n",
       "      <td>NaN</td>\n",
       "    </tr>\n",
       "    <tr>\n",
       "      <th>01-01-2021 00:10</th>\n",
       "      <td>18.220000</td>\n",
       "      <td>17.442500</td>\n",
       "      <td>NaN</td>\n",
       "      <td>NaN</td>\n",
       "    </tr>\n",
       "    <tr>\n",
       "      <th>01-01-2021 00:20</th>\n",
       "      <td>18.230000</td>\n",
       "      <td>18.220000</td>\n",
       "      <td>17.442500</td>\n",
       "      <td>NaN</td>\n",
       "    </tr>\n",
       "    <tr>\n",
       "      <th>01-01-2021 00:30</th>\n",
       "      <td>17.485000</td>\n",
       "      <td>18.230000</td>\n",
       "      <td>18.220000</td>\n",
       "      <td>17.442500</td>\n",
       "    </tr>\n",
       "    <tr>\n",
       "      <th>01-01-2021 00:40</th>\n",
       "      <td>17.785000</td>\n",
       "      <td>17.485000</td>\n",
       "      <td>18.230000</td>\n",
       "      <td>18.220000</td>\n",
       "    </tr>\n",
       "    <tr>\n",
       "      <th>...</th>\n",
       "      <td>...</td>\n",
       "      <td>...</td>\n",
       "      <td>...</td>\n",
       "      <td>...</td>\n",
       "    </tr>\n",
       "    <tr>\n",
       "      <th>16-06-2021 07:40</th>\n",
       "      <td>57.497499</td>\n",
       "      <td>56.885000</td>\n",
       "      <td>56.445000</td>\n",
       "      <td>56.434210</td>\n",
       "    </tr>\n",
       "    <tr>\n",
       "      <th>16-06-2021 07:50</th>\n",
       "      <td>57.591667</td>\n",
       "      <td>57.497499</td>\n",
       "      <td>56.885000</td>\n",
       "      <td>56.445000</td>\n",
       "    </tr>\n",
       "    <tr>\n",
       "      <th>16-06-2021 08:00</th>\n",
       "      <td>57.375001</td>\n",
       "      <td>57.591667</td>\n",
       "      <td>57.497499</td>\n",
       "      <td>56.885000</td>\n",
       "    </tr>\n",
       "    <tr>\n",
       "      <th>16-06-2021 08:10</th>\n",
       "      <td>57.239474</td>\n",
       "      <td>57.375001</td>\n",
       "      <td>57.591667</td>\n",
       "      <td>57.497499</td>\n",
       "    </tr>\n",
       "    <tr>\n",
       "      <th>16-06-2021 08:20</th>\n",
       "      <td>56.509999</td>\n",
       "      <td>57.239474</td>\n",
       "      <td>57.375001</td>\n",
       "      <td>57.591667</td>\n",
       "    </tr>\n",
       "  </tbody>\n",
       "</table>\n",
       "<p>142892 rows × 4 columns</p>\n",
       "</div>"
      ],
      "text/plain": [
       "                          y         x1         x2         x3\n",
       "Date and time                                               \n",
       "01-01-2021 00:00  17.442500        NaN        NaN        NaN\n",
       "01-01-2021 00:10  18.220000  17.442500        NaN        NaN\n",
       "01-01-2021 00:20  18.230000  18.220000  17.442500        NaN\n",
       "01-01-2021 00:30  17.485000  18.230000  18.220000  17.442500\n",
       "01-01-2021 00:40  17.785000  17.485000  18.230000  18.220000\n",
       "...                     ...        ...        ...        ...\n",
       "16-06-2021 07:40  57.497499  56.885000  56.445000  56.434210\n",
       "16-06-2021 07:50  57.591667  57.497499  56.885000  56.445000\n",
       "16-06-2021 08:00  57.375001  57.591667  57.497499  56.885000\n",
       "16-06-2021 08:10  57.239474  57.375001  57.591667  57.497499\n",
       "16-06-2021 08:20  56.509999  57.239474  57.375001  57.591667\n",
       "\n",
       "[142892 rows x 4 columns]"
      ]
     },
     "execution_count": 31,
     "metadata": {},
     "output_type": "execute_result"
    }
   ],
   "source": [
    "test_df"
   ]
  },
  {
   "cell_type": "code",
   "execution_count": 32,
   "metadata": {},
   "outputs": [
    {
     "data": {
      "text/html": [
       "<div>\n",
       "<style scoped>\n",
       "    .dataframe tbody tr th:only-of-type {\n",
       "        vertical-align: middle;\n",
       "    }\n",
       "\n",
       "    .dataframe tbody tr th {\n",
       "        vertical-align: top;\n",
       "    }\n",
       "\n",
       "    .dataframe thead th {\n",
       "        text-align: right;\n",
       "    }\n",
       "</style>\n",
       "<table border=\"1\" class=\"dataframe\">\n",
       "  <thead>\n",
       "    <tr style=\"text-align: right;\">\n",
       "      <th></th>\n",
       "      <th>y</th>\n",
       "      <th>x1</th>\n",
       "      <th>x2</th>\n",
       "      <th>x3</th>\n",
       "    </tr>\n",
       "    <tr>\n",
       "      <th>Date and time</th>\n",
       "      <th></th>\n",
       "      <th></th>\n",
       "      <th></th>\n",
       "      <th></th>\n",
       "    </tr>\n",
       "  </thead>\n",
       "  <tbody>\n",
       "    <tr>\n",
       "      <th>01-01-2020 00:00</th>\n",
       "      <td>56.972500</td>\n",
       "      <td>NaN</td>\n",
       "      <td>NaN</td>\n",
       "      <td>NaN</td>\n",
       "    </tr>\n",
       "    <tr>\n",
       "      <th>01-01-2020 00:10</th>\n",
       "      <td>56.695001</td>\n",
       "      <td>56.972500</td>\n",
       "      <td>NaN</td>\n",
       "      <td>NaN</td>\n",
       "    </tr>\n",
       "    <tr>\n",
       "      <th>01-01-2020 00:20</th>\n",
       "      <td>56.640000</td>\n",
       "      <td>56.695001</td>\n",
       "      <td>56.972500</td>\n",
       "      <td>NaN</td>\n",
       "    </tr>\n",
       "    <tr>\n",
       "      <th>01-01-2020 00:30</th>\n",
       "      <td>56.432500</td>\n",
       "      <td>56.640000</td>\n",
       "      <td>56.695001</td>\n",
       "      <td>56.972500</td>\n",
       "    </tr>\n",
       "    <tr>\n",
       "      <th>01-01-2020 00:40</th>\n",
       "      <td>56.169998</td>\n",
       "      <td>56.432500</td>\n",
       "      <td>56.640000</td>\n",
       "      <td>56.695001</td>\n",
       "    </tr>\n",
       "    <tr>\n",
       "      <th>...</th>\n",
       "      <td>...</td>\n",
       "      <td>...</td>\n",
       "      <td>...</td>\n",
       "      <td>...</td>\n",
       "    </tr>\n",
       "    <tr>\n",
       "      <th>31-12-2020 23:10</th>\n",
       "      <td>50.830000</td>\n",
       "      <td>50.880000</td>\n",
       "      <td>51.015000</td>\n",
       "      <td>51.052500</td>\n",
       "    </tr>\n",
       "    <tr>\n",
       "      <th>31-12-2020 23:20</th>\n",
       "      <td>50.792500</td>\n",
       "      <td>50.830000</td>\n",
       "      <td>50.880000</td>\n",
       "      <td>51.015000</td>\n",
       "    </tr>\n",
       "    <tr>\n",
       "      <th>31-12-2020 23:30</th>\n",
       "      <td>50.742500</td>\n",
       "      <td>50.792500</td>\n",
       "      <td>50.830000</td>\n",
       "      <td>50.880000</td>\n",
       "    </tr>\n",
       "    <tr>\n",
       "      <th>31-12-2020 23:40</th>\n",
       "      <td>50.799999</td>\n",
       "      <td>50.742500</td>\n",
       "      <td>50.792500</td>\n",
       "      <td>50.830000</td>\n",
       "    </tr>\n",
       "    <tr>\n",
       "      <th>31-12-2020 23:50</th>\n",
       "      <td>50.772500</td>\n",
       "      <td>50.799999</td>\n",
       "      <td>50.742500</td>\n",
       "      <td>50.792500</td>\n",
       "    </tr>\n",
       "  </tbody>\n",
       "</table>\n",
       "<p>311918 rows × 4 columns</p>\n",
       "</div>"
      ],
      "text/plain": [
       "                          y         x1         x2         x3\n",
       "Date and time                                               \n",
       "01-01-2020 00:00  56.972500        NaN        NaN        NaN\n",
       "01-01-2020 00:10  56.695001  56.972500        NaN        NaN\n",
       "01-01-2020 00:20  56.640000  56.695001  56.972500        NaN\n",
       "01-01-2020 00:30  56.432500  56.640000  56.695001  56.972500\n",
       "01-01-2020 00:40  56.169998  56.432500  56.640000  56.695001\n",
       "...                     ...        ...        ...        ...\n",
       "31-12-2020 23:10  50.830000  50.880000  51.015000  51.052500\n",
       "31-12-2020 23:20  50.792500  50.830000  50.880000  51.015000\n",
       "31-12-2020 23:30  50.742500  50.792500  50.830000  50.880000\n",
       "31-12-2020 23:40  50.799999  50.742500  50.792500  50.830000\n",
       "31-12-2020 23:50  50.772500  50.799999  50.742500  50.792500\n",
       "\n",
       "[311918 rows x 4 columns]"
      ]
     },
     "execution_count": 32,
     "metadata": {},
     "output_type": "execute_result"
    }
   ],
   "source": [
    "x_train = train_df\n",
    "x_train"
   ]
  },
  {
   "cell_type": "code",
   "execution_count": 33,
   "metadata": {},
   "outputs": [],
   "source": [
    "x_train = train_df.iloc[3:,1:]\n",
    "y_train = train_df.iloc[3:,:1]\n",
    "\n",
    "x_test = test_df.iloc[3:,1:]\n",
    "y_test = test_df.iloc[3:,:1]"
   ]
  },
  {
   "cell_type": "code",
   "execution_count": 34,
   "metadata": {},
   "outputs": [],
   "source": [
    "train_df.to_csv('time_series_train_data.csv')\n",
    "test_df.to_csv('time_series_test_data.csv')"
   ]
  },
  {
   "cell_type": "code",
   "execution_count": 35,
   "metadata": {},
   "outputs": [],
   "source": [
    "n_samples = x_train.values.shape[0]\n",
    "n_timestamps = 1\n",
    "n_features = x_train.values.shape[1]"
   ]
  },
  {
   "cell_type": "code",
   "execution_count": 36,
   "metadata": {},
   "outputs": [],
   "source": [
    "x_train = x_train.values.reshape(n_samples, n_timestamps, n_features)"
   ]
  },
  {
   "cell_type": "code",
   "execution_count": 38,
   "metadata": {},
   "outputs": [
    {
     "name": "stdout",
     "output_type": "stream",
     "text": [
      "Model: \"sequential_1\"\n",
      "_________________________________________________________________\n",
      " Layer (type)                Output Shape              Param #   \n",
      "=================================================================\n",
      " lstm_1 (LSTM)               (None, 64)                17408     \n",
      "                                                                 \n",
      " dense_1 (Dense)             (None, 1)                 65        \n",
      "                                                                 \n",
      "=================================================================\n",
      "Total params: 17,473\n",
      "Trainable params: 17,473\n",
      "Non-trainable params: 0\n",
      "_________________________________________________________________\n"
     ]
    }
   ],
   "source": [
    "lstm_model = Sequential()\n",
    "\n",
    "lstm_model.add(LSTM(64, input_shape =(n_timestamps, n_features)))\n",
    "# lstm_model.add(Dense(32, activation='relu')) \n",
    "lstm_model.add(Dense(1, activation='relu')) \n",
    "lstm_model.compile(loss='mse', optimizer='adam')\n",
    "lstm_model.summary()"
   ]
  },
  {
   "cell_type": "code",
   "execution_count": 39,
   "metadata": {},
   "outputs": [
    {
     "name": "stdout",
     "output_type": "stream",
     "text": [
      "Epoch 1/50\n",
      "3656/3656 [==============================] - 12s 3ms/step - loss: 246.0872 - val_loss: 2.4154\n",
      "Epoch 2/50\n",
      "3656/3656 [==============================] - 9s 2ms/step - loss: 1.5318 - val_loss: 1.1658\n",
      "Epoch 3/50\n",
      "3656/3656 [==============================] - 9s 2ms/step - loss: 1.1877 - val_loss: 0.9588\n",
      "Epoch 4/50\n",
      "3656/3656 [==============================] - 9s 3ms/step - loss: 1.1582 - val_loss: 1.0459\n",
      "Epoch 5/50\n",
      "3656/3656 [==============================] - 12s 3ms/step - loss: 1.1392 - val_loss: 0.9809\n",
      "Epoch 6/50\n",
      "3656/3656 [==============================] - 10s 3ms/step - loss: 1.1234 - val_loss: 0.9423\n",
      "Epoch 7/50\n",
      "3656/3656 [==============================] - 10s 3ms/step - loss: 1.1320 - val_loss: 0.9411\n",
      "Epoch 8/50\n",
      "3656/3656 [==============================] - 10s 3ms/step - loss: 1.1298 - val_loss: 1.0601\n",
      "Epoch 9/50\n",
      "3656/3656 [==============================] - 9s 3ms/step - loss: 1.1183 - val_loss: 0.9923\n",
      "Epoch 10/50\n",
      "3656/3656 [==============================] - 9s 2ms/step - loss: 1.1097 - val_loss: 1.1837\n",
      "Epoch 11/50\n",
      "3656/3656 [==============================] - 9s 2ms/step - loss: 1.1062 - val_loss: 0.9391\n",
      "Epoch 12/50\n",
      "3656/3656 [==============================] - 9s 2ms/step - loss: 1.1120 - val_loss: 1.3105\n",
      "Epoch 13/50\n",
      "3656/3656 [==============================] - 9s 2ms/step - loss: 1.1090 - val_loss: 1.0069\n",
      "Epoch 14/50\n",
      "3656/3656 [==============================] - 10s 3ms/step - loss: 1.1156 - val_loss: 0.9716\n",
      "Epoch 15/50\n",
      "3656/3656 [==============================] - 10s 3ms/step - loss: 1.1065 - val_loss: 1.0239\n",
      "Epoch 16/50\n",
      "3656/3656 [==============================] - 10s 3ms/step - loss: 1.0990 - val_loss: 0.9408\n",
      "Epoch 17/50\n",
      "3656/3656 [==============================] - 9s 3ms/step - loss: 1.1005 - val_loss: 0.9516\n",
      "Epoch 18/50\n",
      "3656/3656 [==============================] - 9s 2ms/step - loss: 1.1032 - val_loss: 0.9841\n",
      "Epoch 19/50\n",
      "3656/3656 [==============================] - 9s 2ms/step - loss: 1.0985 - val_loss: 1.5027\n",
      "Epoch 20/50\n",
      "3656/3656 [==============================] - 9s 3ms/step - loss: 1.0919 - val_loss: 0.9288\n",
      "Epoch 21/50\n",
      "3656/3656 [==============================] - 9s 3ms/step - loss: 1.0915 - val_loss: 0.9242\n",
      "Epoch 22/50\n",
      "3656/3656 [==============================] - 9s 2ms/step - loss: 1.0933 - val_loss: 0.9331\n",
      "Epoch 23/50\n",
      "3656/3656 [==============================] - 9s 2ms/step - loss: 1.0938 - val_loss: 0.9275\n",
      "Epoch 24/50\n",
      "3656/3656 [==============================] - 9s 3ms/step - loss: 1.0945 - val_loss: 1.0247\n",
      "Epoch 25/50\n",
      "3656/3656 [==============================] - 9s 2ms/step - loss: 1.0893 - val_loss: 0.9310\n",
      "Epoch 26/50\n",
      "3656/3656 [==============================] - 9s 3ms/step - loss: 1.0961 - val_loss: 1.0259\n",
      "Epoch 27/50\n",
      "3656/3656 [==============================] - 9s 2ms/step - loss: 1.0926 - val_loss: 0.9208\n",
      "Epoch 28/50\n",
      "3656/3656 [==============================] - 9s 2ms/step - loss: 1.0888 - val_loss: 0.9346\n",
      "Epoch 29/50\n",
      "3656/3656 [==============================] - 9s 2ms/step - loss: 1.0828 - val_loss: 0.9394\n",
      "Epoch 30/50\n",
      "3656/3656 [==============================] - 9s 3ms/step - loss: 1.0905 - val_loss: 0.9555\n",
      "Epoch 31/50\n",
      "3656/3656 [==============================] - 9s 2ms/step - loss: 1.0846 - val_loss: 0.9434\n",
      "Epoch 32/50\n",
      "3656/3656 [==============================] - 9s 2ms/step - loss: 1.0897 - val_loss: 0.9712\n",
      "Epoch 33/50\n",
      "3656/3656 [==============================] - 9s 2ms/step - loss: 1.0803 - val_loss: 1.1753\n",
      "Epoch 34/50\n",
      "3656/3656 [==============================] - 9s 3ms/step - loss: 1.0873 - val_loss: 0.9767\n",
      "Epoch 35/50\n",
      "3656/3656 [==============================] - 9s 2ms/step - loss: 1.0798 - val_loss: 0.9256\n",
      "Epoch 36/50\n",
      "3656/3656 [==============================] - 9s 3ms/step - loss: 1.0834 - val_loss: 0.9166\n",
      "Epoch 37/50\n",
      "3656/3656 [==============================] - 9s 3ms/step - loss: 1.0803 - val_loss: 1.2911\n",
      "Epoch 38/50\n",
      "3656/3656 [==============================] - 9s 2ms/step - loss: 1.0871 - val_loss: 0.9789\n",
      "Epoch 39/50\n",
      "3656/3656 [==============================] - 9s 3ms/step - loss: 1.0815 - val_loss: 1.0901\n",
      "Epoch 40/50\n",
      "3656/3656 [==============================] - 9s 2ms/step - loss: 1.0775 - val_loss: 0.9977\n",
      "Epoch 41/50\n",
      "3656/3656 [==============================] - 9s 3ms/step - loss: 1.0868 - val_loss: 0.9522\n",
      "Epoch 42/50\n",
      "3656/3656 [==============================] - 9s 2ms/step - loss: 1.0823 - val_loss: 0.9833\n",
      "Epoch 43/50\n",
      "3656/3656 [==============================] - 9s 3ms/step - loss: 1.0798 - val_loss: 1.0584\n",
      "Epoch 44/50\n",
      "3656/3656 [==============================] - 9s 3ms/step - loss: 1.0820 - val_loss: 0.9247\n",
      "Epoch 45/50\n",
      "3656/3656 [==============================] - 9s 2ms/step - loss: 1.0811 - val_loss: 1.0062\n",
      "Epoch 46/50\n",
      "3656/3656 [==============================] - 9s 2ms/step - loss: 1.0709 - val_loss: 0.9613\n",
      "Epoch 47/50\n",
      "3656/3656 [==============================] - 9s 3ms/step - loss: 1.0718 - val_loss: 0.9324\n",
      "Epoch 48/50\n",
      "3656/3656 [==============================] - 9s 3ms/step - loss: 1.0739 - val_loss: 0.9310\n",
      "Epoch 49/50\n",
      "3656/3656 [==============================] - 9s 3ms/step - loss: 1.0735 - val_loss: 0.9188\n",
      "Epoch 50/50\n",
      "3656/3656 [==============================] - 9s 2ms/step - loss: 1.0677 - val_loss: 0.9217\n"
     ]
    }
   ],
   "source": [
    "history = lstm_model.fit(x_train, y_train, epochs=50, batch_size=64,validation_split=0.25, shuffle=True).history"
   ]
  },
  {
   "cell_type": "code",
   "execution_count": 40,
   "metadata": {},
   "outputs": [
    {
     "data": {
      "image/png": "[encoded data removed]",
      "text/plain": [
       "<Figure size 1120x480 with 1 Axes>"
      ]
     },
     "metadata": {},
     "output_type": "display_data"
    }
   ],
   "source": [
    "fig, ax = plt.subplots(figsize=(14, 6), dpi=80,)\n",
    "ax.plot(history['loss'], 'b', label='Train', linewidth=2)\n",
    "ax.plot(history['val_loss'], 'r', label='Validation', linewidth=2)\n",
    "ax.set_title('Model loss', fontsize=16)\n",
    "ax.set_ylabel('Loss (mae)')\n",
    "ax.set_xlabel('Epoch')\n",
    "ax.legend(loc='upper right')\n",
    "plt.show()"
   ]
  },
  {
   "cell_type": "code",
   "execution_count": 41,
   "metadata": {},
   "outputs": [
    {
     "name": "stdout",
     "output_type": "stream",
     "text": [
      "9748/9748 [==============================] - 12s 1ms/step\n"
     ]
    },
    {
     "data": {
      "text/plain": [
       "array([[56.783363],\n",
       "       [56.589478],\n",
       "       [56.384315],\n",
       "       ...,\n",
       "       [50.959877],\n",
       "       [50.90689 ],\n",
       "       [50.967033]], dtype=float32)"
      ]
     },
     "execution_count": 41,
     "metadata": {},
     "output_type": "execute_result"
    }
   ],
   "source": [
    "train_pred=lstm_model.predict(x_train)\n",
    "train_pred"
   ]
  },
  {
   "cell_type": "code",
   "execution_count": 42,
   "metadata": {},
   "outputs": [],
   "source": [
    "x_test = x_test.values.reshape(x_test.shape[0], 1, x_test.shape[1])"
   ]
  },
  {
   "cell_type": "code",
   "execution_count": 43,
   "metadata": {},
   "outputs": [
    {
     "name": "stdout",
     "output_type": "stream",
     "text": [
      "4466/4466 [==============================] - 6s 1ms/step\n"
     ]
    },
    {
     "data": {
      "text/plain": [
       "array([[18.085152],\n",
       "       [17.355629],\n",
       "       [17.896046],\n",
       "       ...,\n",
       "       [57.448433],\n",
       "       [57.407597],\n",
       "       [57.324112]], dtype=float32)"
      ]
     },
     "execution_count": 43,
     "metadata": {},
     "output_type": "execute_result"
    }
   ],
   "source": [
    "test_pred=lstm_model.predict(x_test)\n",
    "test_pred"
   ]
  },
  {
   "cell_type": "code",
   "execution_count": 44,
   "metadata": {},
   "outputs": [],
   "source": [
    "model_json = lstm_model.to_json()\n",
    "with open(\"lstm_model.json\", \"w\") as json_file:\n",
    "    json_file.write(model_json)\n",
    "\n",
    "lstm_model.save_weights(\"lstm_model.h5\")"
   ]
  },
  {
   "cell_type": "code",
   "execution_count": null,
   "metadata": {},
   "outputs": [],
   "source": []
  }
 ],
 "metadata": {
  "kernelspec": {
   "display_name": "Python 3",
   "language": "python",
   "name": "python3"
  },
  "language_info": {
   "codemirror_mode": {
    "name": "ipython",
    "version": 3
   },
   "file_extension": ".py",
   "mimetype": "text/x-python",
   "name": "python",
   "nbconvert_exporter": "python",
   "pygments_lexer": "ipython3",
   "version": "3.11.4"
  },
  "orig_nbformat": 4
 },
 "nbformat": 4,
 "nbformat_minor": 2
}
